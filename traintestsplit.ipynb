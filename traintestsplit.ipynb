{
 "cells": [
  {
   "cell_type": "code",
   "execution_count": 1,
   "metadata": {},
   "outputs": [],
   "source": [
    "import numpy as np\n",
    "from sklearn.model_selection import train_test_split as tts"
   ]
  },
  {
   "cell_type": "code",
   "execution_count": 22,
   "metadata": {},
   "outputs": [],
   "source": [
    "a=np.arange(1,200)\n",
    "b=np.arange(1000,1199)"
   ]
  },
  {
   "cell_type": "code",
   "execution_count": 26,
   "metadata": {},
   "outputs": [],
   "source": [
    "traintesta=tts(a)\n",
    "traintestb=tts(b)\n",
    "tr1,tr2,tr3,tr4=tts(a,b,random_state=20)\n"
   ]
  },
  {
   "cell_type": "code",
   "execution_count": 11,
   "metadata": {},
   "outputs": [],
   "source": [
    "aa,ab=traintesta\n",
    "ba,bb=traintestb"
   ]
  },
  {
   "cell_type": "code",
   "execution_count": 12,
   "metadata": {},
   "outputs": [
    {
     "data": {
      "text/plain": [
       "array([ 27, 106, 151, 196, 104,  30,  39, 144, 199, 175, 187,  33, 102,\n",
       "        55,  51, 186, 195, 160, 127, 135, 157, 189, 107, 105,  20, 110,\n",
       "       190,  35, 158,  44, 100, 183,  47,  64,  91,  40, 179, 174,  96,\n",
       "        42,  36, 103,  32,  72,  89,  80, 146, 197,  94,  57,  38,   9,\n",
       "       141, 153,  56, 101,  16, 132, 126,  63, 142, 182, 134,  73, 125,\n",
       "        18,  81, 168,  53,  82,  52, 150, 194, 171,  12,  85,  86,  93,\n",
       "       170, 133,  21,  68,  49, 180, 162, 128,   2, 163, 161,  71,  87,\n",
       "       159, 129,  10, 124,  13, 120, 169, 143,   3,  43,  22,  98, 176,\n",
       "       167,  90,  61, 123,  41, 117,  70,  78,  84,  77,  76,  19,  11,\n",
       "       188,  75, 181, 177,  23, 108,  74,  46,  97,  25,  88, 166,  62,\n",
       "       136, 173,  34,  31,  66, 148,  17,  28,  24, 198,   1, 140,  54,\n",
       "        79,   8,   6, 164, 116, 115])"
      ]
     },
     "execution_count": 12,
     "metadata": {},
     "output_type": "execute_result"
    }
   ],
   "source": [
    "aa"
   ]
  },
  {
   "cell_type": "code",
   "execution_count": 21,
   "metadata": {},
   "outputs": [
    {
     "ename": "ValueError",
     "evalue": "Found input variables with inconsistent numbers of samples: [199, 200]",
     "output_type": "error",
     "traceback": [
      "\u001b[1;31m---------------------------------------------------------------------------\u001b[0m",
      "\u001b[1;31mValueError\u001b[0m                                Traceback (most recent call last)",
      "Cell \u001b[1;32mIn[21], line 1\u001b[0m\n\u001b[1;32m----> 1\u001b[0m tr1,tr2,tr3,tr4\u001b[39m=\u001b[39mtts(a,b,random_state\u001b[39m=\u001b[39;49m\u001b[39m20\u001b[39;49m)\n",
      "File \u001b[1;32mc:\\Python311\\Lib\\site-packages\\sklearn\\model_selection\\_split.py:2559\u001b[0m, in \u001b[0;36mtrain_test_split\u001b[1;34m(test_size, train_size, random_state, shuffle, stratify, *arrays)\u001b[0m\n\u001b[0;32m   2556\u001b[0m \u001b[39mif\u001b[39;00m n_arrays \u001b[39m==\u001b[39m \u001b[39m0\u001b[39m:\n\u001b[0;32m   2557\u001b[0m     \u001b[39mraise\u001b[39;00m \u001b[39mValueError\u001b[39;00m(\u001b[39m\"\u001b[39m\u001b[39mAt least one array required as input\u001b[39m\u001b[39m\"\u001b[39m)\n\u001b[1;32m-> 2559\u001b[0m arrays \u001b[39m=\u001b[39m indexable(\u001b[39m*\u001b[39;49marrays)\n\u001b[0;32m   2561\u001b[0m n_samples \u001b[39m=\u001b[39m _num_samples(arrays[\u001b[39m0\u001b[39m])\n\u001b[0;32m   2562\u001b[0m n_train, n_test \u001b[39m=\u001b[39m _validate_shuffle_split(\n\u001b[0;32m   2563\u001b[0m     n_samples, test_size, train_size, default_test_size\u001b[39m=\u001b[39m\u001b[39m0.25\u001b[39m\n\u001b[0;32m   2564\u001b[0m )\n",
      "File \u001b[1;32mc:\\Python311\\Lib\\site-packages\\sklearn\\utils\\validation.py:443\u001b[0m, in \u001b[0;36mindexable\u001b[1;34m(*iterables)\u001b[0m\n\u001b[0;32m    424\u001b[0m \u001b[39m\u001b[39m\u001b[39m\"\"\"Make arrays indexable for cross-validation.\u001b[39;00m\n\u001b[0;32m    425\u001b[0m \n\u001b[0;32m    426\u001b[0m \u001b[39mChecks consistent length, passes through None, and ensures that everything\u001b[39;00m\n\u001b[1;32m   (...)\u001b[0m\n\u001b[0;32m    439\u001b[0m \u001b[39m    sparse matrix, or dataframe) or `None`.\u001b[39;00m\n\u001b[0;32m    440\u001b[0m \u001b[39m\"\"\"\u001b[39;00m\n\u001b[0;32m    442\u001b[0m result \u001b[39m=\u001b[39m [_make_indexable(X) \u001b[39mfor\u001b[39;00m X \u001b[39min\u001b[39;00m iterables]\n\u001b[1;32m--> 443\u001b[0m check_consistent_length(\u001b[39m*\u001b[39;49mresult)\n\u001b[0;32m    444\u001b[0m \u001b[39mreturn\u001b[39;00m result\n",
      "File \u001b[1;32mc:\\Python311\\Lib\\site-packages\\sklearn\\utils\\validation.py:397\u001b[0m, in \u001b[0;36mcheck_consistent_length\u001b[1;34m(*arrays)\u001b[0m\n\u001b[0;32m    395\u001b[0m uniques \u001b[39m=\u001b[39m np\u001b[39m.\u001b[39munique(lengths)\n\u001b[0;32m    396\u001b[0m \u001b[39mif\u001b[39;00m \u001b[39mlen\u001b[39m(uniques) \u001b[39m>\u001b[39m \u001b[39m1\u001b[39m:\n\u001b[1;32m--> 397\u001b[0m     \u001b[39mraise\u001b[39;00m \u001b[39mValueError\u001b[39;00m(\n\u001b[0;32m    398\u001b[0m         \u001b[39m\"\u001b[39m\u001b[39mFound input variables with inconsistent numbers of samples: \u001b[39m\u001b[39m%r\u001b[39;00m\u001b[39m\"\u001b[39m\n\u001b[0;32m    399\u001b[0m         \u001b[39m%\u001b[39m [\u001b[39mint\u001b[39m(l) \u001b[39mfor\u001b[39;00m l \u001b[39min\u001b[39;00m lengths]\n\u001b[0;32m    400\u001b[0m     )\n",
      "\u001b[1;31mValueError\u001b[0m: Found input variables with inconsistent numbers of samples: [199, 200]"
     ]
    }
   ],
   "source": [
    "tr1,tr2=tts(a,b,random_state=20)"
   ]
  },
  {
   "cell_type": "code",
   "execution_count": 27,
   "metadata": {},
   "outputs": [
    {
     "data": {
      "text/plain": [
       "(array([ 13, 130,  52, 153,  89,   2,  56,  81, 161,  65, 135,  63,  21,\n",
       "         22,  46, 129,  93, 162,  30,  91,  36, 108,  92, 105, 165,  69,\n",
       "         38,  99,   1, 156,  12, 136,  50,  31,  66, 198,  67, 104,  42,\n",
       "        179, 118,  58,   3,  70,  75,  51, 109, 164,  59, 101,  57,  32,\n",
       "         15, 121,  88,  40, 107, 103, 168,  74,  82,  55, 125, 140,  77,\n",
       "         97,  53,  24, 120, 133,  10,  39, 173,  54,  96, 126,  49, 117,\n",
       "         20,  37, 128, 124,  61, 154, 141, 189,  18, 115, 116, 159,  83,\n",
       "        181, 160,   9, 191,  28,   5, 143, 193,  71, 197, 169,  95,  43,\n",
       "         34,  94, 147,  25,  79, 172, 158, 190, 171,  80, 170, 186,  44,\n",
       "        146,   4,  19, 194, 182,  11,  33, 111,  84,  62, 132,  26, 142,\n",
       "        188,   7,   8, 102, 106, 145,  17,  27,  41, 119, 163,  72,  23,\n",
       "         76, 149, 138, 157,  16, 100]),\n",
       " array([150,  29,  14, 178, 110, 166, 177, 196,  48, 180, 137,  78, 187,\n",
       "        144,  85, 175, 155, 167, 122, 192, 176, 114,  90, 151, 185, 148,\n",
       "        199, 127,   6,  98,  35, 139,  45,  73, 183,  86, 195,  47,  87,\n",
       "        113, 152,  68, 134,  60,  64, 184, 174, 123, 112, 131]),\n",
       " array([1012, 1129, 1051, 1152, 1088, 1001, 1055, 1080, 1160, 1064, 1134,\n",
       "        1062, 1020, 1021, 1045, 1128, 1092, 1161, 1029, 1090, 1035, 1107,\n",
       "        1091, 1104, 1164, 1068, 1037, 1098, 1000, 1155, 1011, 1135, 1049,\n",
       "        1030, 1065, 1197, 1066, 1103, 1041, 1178, 1117, 1057, 1002, 1069,\n",
       "        1074, 1050, 1108, 1163, 1058, 1100, 1056, 1031, 1014, 1120, 1087,\n",
       "        1039, 1106, 1102, 1167, 1073, 1081, 1054, 1124, 1139, 1076, 1096,\n",
       "        1052, 1023, 1119, 1132, 1009, 1038, 1172, 1053, 1095, 1125, 1048,\n",
       "        1116, 1019, 1036, 1127, 1123, 1060, 1153, 1140, 1188, 1017, 1114,\n",
       "        1115, 1158, 1082, 1180, 1159, 1008, 1190, 1027, 1004, 1142, 1192,\n",
       "        1070, 1196, 1168, 1094, 1042, 1033, 1093, 1146, 1024, 1078, 1171,\n",
       "        1157, 1189, 1170, 1079, 1169, 1185, 1043, 1145, 1003, 1018, 1193,\n",
       "        1181, 1010, 1032, 1110, 1083, 1061, 1131, 1025, 1141, 1187, 1006,\n",
       "        1007, 1101, 1105, 1144, 1016, 1026, 1040, 1118, 1162, 1071, 1022,\n",
       "        1075, 1148, 1137, 1156, 1015, 1099]),\n",
       " array([1149, 1028, 1013, 1177, 1109, 1165, 1176, 1195, 1047, 1179, 1136,\n",
       "        1077, 1186, 1143, 1084, 1174, 1154, 1166, 1121, 1191, 1175, 1113,\n",
       "        1089, 1150, 1184, 1147, 1198, 1126, 1005, 1097, 1034, 1138, 1044,\n",
       "        1072, 1182, 1085, 1194, 1046, 1086, 1112, 1151, 1067, 1133, 1059,\n",
       "        1063, 1183, 1173, 1122, 1111, 1130]))"
      ]
     },
     "execution_count": 27,
     "metadata": {},
     "output_type": "execute_result"
    }
   ],
   "source": [
    "tr1,tr2,tr3,tr4"
   ]
  },
  {
   "cell_type": "code",
   "execution_count": 38,
   "metadata": {},
   "outputs": [
    {
     "data": {
      "text/plain": [
       "((149,), (50,), (149,), (50,))"
      ]
     },
     "execution_count": 38,
     "metadata": {},
     "output_type": "execute_result"
    }
   ],
   "source": [
    "tr1.shape,tr2.shape,tr3.shape,tr4.shape\n",
    "\n",
    "\n"
   ]
  },
  {
   "cell_type": "code",
   "execution_count": 47,
   "metadata": {},
   "outputs": [
    {
     "data": {
      "text/plain": [
       "array([[ 13],\n",
       "       [130],\n",
       "       [ 52],\n",
       "       [153],\n",
       "       [ 89],\n",
       "       [  2],\n",
       "       [ 56],\n",
       "       [ 81],\n",
       "       [161],\n",
       "       [ 65],\n",
       "       [135],\n",
       "       [ 63],\n",
       "       [ 21],\n",
       "       [ 22],\n",
       "       [ 46],\n",
       "       [129],\n",
       "       [ 93],\n",
       "       [162],\n",
       "       [ 30],\n",
       "       [ 91],\n",
       "       [ 36],\n",
       "       [108],\n",
       "       [ 92],\n",
       "       [105],\n",
       "       [165],\n",
       "       [ 69],\n",
       "       [ 38],\n",
       "       [ 99],\n",
       "       [  1],\n",
       "       [156],\n",
       "       [ 12],\n",
       "       [136],\n",
       "       [ 50],\n",
       "       [ 31],\n",
       "       [ 66],\n",
       "       [198],\n",
       "       [ 67],\n",
       "       [104],\n",
       "       [ 42],\n",
       "       [179],\n",
       "       [118],\n",
       "       [ 58],\n",
       "       [  3],\n",
       "       [ 70],\n",
       "       [ 75],\n",
       "       [ 51],\n",
       "       [109],\n",
       "       [164],\n",
       "       [ 59],\n",
       "       [101],\n",
       "       [ 57],\n",
       "       [ 32],\n",
       "       [ 15],\n",
       "       [121],\n",
       "       [ 88],\n",
       "       [ 40],\n",
       "       [107],\n",
       "       [103],\n",
       "       [168],\n",
       "       [ 74],\n",
       "       [ 82],\n",
       "       [ 55],\n",
       "       [125],\n",
       "       [140],\n",
       "       [ 77],\n",
       "       [ 97],\n",
       "       [ 53],\n",
       "       [ 24],\n",
       "       [120],\n",
       "       [133],\n",
       "       [ 10],\n",
       "       [ 39],\n",
       "       [173],\n",
       "       [ 54],\n",
       "       [ 96],\n",
       "       [126],\n",
       "       [ 49],\n",
       "       [117],\n",
       "       [ 20],\n",
       "       [ 37],\n",
       "       [128],\n",
       "       [124],\n",
       "       [ 61],\n",
       "       [154],\n",
       "       [141],\n",
       "       [189],\n",
       "       [ 18],\n",
       "       [115],\n",
       "       [116],\n",
       "       [159],\n",
       "       [ 83],\n",
       "       [181],\n",
       "       [160],\n",
       "       [  9],\n",
       "       [191],\n",
       "       [ 28],\n",
       "       [  5],\n",
       "       [143],\n",
       "       [193],\n",
       "       [ 71],\n",
       "       [197],\n",
       "       [169],\n",
       "       [ 95],\n",
       "       [ 43],\n",
       "       [ 34],\n",
       "       [ 94],\n",
       "       [147],\n",
       "       [ 25],\n",
       "       [ 79],\n",
       "       [172],\n",
       "       [158],\n",
       "       [190],\n",
       "       [171],\n",
       "       [ 80],\n",
       "       [170],\n",
       "       [186],\n",
       "       [ 44],\n",
       "       [146],\n",
       "       [  4],\n",
       "       [ 19],\n",
       "       [194],\n",
       "       [182],\n",
       "       [ 11],\n",
       "       [ 33],\n",
       "       [111],\n",
       "       [ 84],\n",
       "       [ 62],\n",
       "       [132],\n",
       "       [ 26],\n",
       "       [142],\n",
       "       [188],\n",
       "       [  7],\n",
       "       [  8],\n",
       "       [102],\n",
       "       [106],\n",
       "       [145],\n",
       "       [ 17],\n",
       "       [ 27],\n",
       "       [ 41],\n",
       "       [119],\n",
       "       [163],\n",
       "       [ 72],\n",
       "       [ 23],\n",
       "       [ 76],\n",
       "       [149],\n",
       "       [138],\n",
       "       [157],\n",
       "       [ 16],\n",
       "       [100]])"
      ]
     },
     "execution_count": 47,
     "metadata": {},
     "output_type": "execute_result"
    }
   ],
   "source": [
    "tr1.reshape(-1,1)"
   ]
  }
 ],
 "metadata": {
  "kernelspec": {
   "display_name": "Python 3",
   "language": "python",
   "name": "python3"
  },
  "language_info": {
   "codemirror_mode": {
    "name": "ipython",
    "version": 3
   },
   "file_extension": ".py",
   "mimetype": "text/x-python",
   "name": "python",
   "nbconvert_exporter": "python",
   "pygments_lexer": "ipython3",
   "version": "3.11.0"
  },
  "orig_nbformat": 4,
  "vscode": {
   "interpreter": {
    "hash": "c261aea317cc0286b3b3261fbba9abdec21eaa57589985bb7a274bf54d6cc0a7"
   }
  }
 },
 "nbformat": 4,
 "nbformat_minor": 2
}
