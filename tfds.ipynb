{
 "cells": [
  {
   "cell_type": "code",
   "execution_count": 1,
   "metadata": {},
   "outputs": [],
   "source": [
    "import numpy as np\n",
    "import pandas as pd \n",
    "import tensorflow_datasets as tfds\n",
    "import tensorflow as tf"
   ]
  },
  {
   "cell_type": "code",
   "execution_count": 4,
   "metadata": {},
   "outputs": [
    {
     "ename": "KeyError",
     "evalue": "'dataset'",
     "output_type": "error",
     "traceback": [
      "\u001b[1;31m---------------------------------------------------------------------------\u001b[0m",
      "\u001b[1;31mKeyError\u001b[0m                                  Traceback (most recent call last)",
      "Cell \u001b[1;32mIn[4], line 1\u001b[0m\n\u001b[1;32m----> 1\u001b[0m tfds\u001b[39m.\u001b[39;49mas_numpy()\n",
      "File \u001b[1;32mc:\\Python311\\Lib\\site-packages\\tensorflow_datasets\\core\\logging\\__init__.py:373\u001b[0m, in \u001b[0;36mas_numpy.<locals>.decorator\u001b[1;34m(*args, **kwargs)\u001b[0m\n\u001b[0;32m    371\u001b[0m \u001b[39m@functools\u001b[39m\u001b[39m.\u001b[39mwraps(function)\n\u001b[0;32m    372\u001b[0m \u001b[39mdef\u001b[39;00m \u001b[39mdecorator\u001b[39m(\u001b[39m*\u001b[39margs, \u001b[39m*\u001b[39m\u001b[39m*\u001b[39mkwargs):\n\u001b[1;32m--> 373\u001b[0m   dataset \u001b[39m=\u001b[39m args[\u001b[39m0\u001b[39m] \u001b[39mif\u001b[39;00m args \u001b[39melse\u001b[39;00m kwargs[\u001b[39m\"\u001b[39;49m\u001b[39mdataset\u001b[39;49m\u001b[39m\"\u001b[39;49m]\n\u001b[0;32m    374\u001b[0m   metadata \u001b[39m=\u001b[39m call_metadata\u001b[39m.\u001b[39mCallMetadata()\n\u001b[0;32m    375\u001b[0m   \u001b[39mtry\u001b[39;00m:\n",
      "\u001b[1;31mKeyError\u001b[0m: 'dataset'"
     ]
    }
   ],
   "source": [
    "mydata,mydatainfo=tfds('mnist', )"
   ]
  }
 ],
 "metadata": {
  "kernelspec": {
   "display_name": "Python 3",
   "language": "python",
   "name": "python3"
  },
  "language_info": {
   "codemirror_mode": {
    "name": "ipython",
    "version": 3
   },
   "file_extension": ".py",
   "mimetype": "text/x-python",
   "name": "python",
   "nbconvert_exporter": "python",
   "pygments_lexer": "ipython3",
   "version": "3.11.0"
  },
  "orig_nbformat": 4
 },
 "nbformat": 4,
 "nbformat_minor": 2
}
