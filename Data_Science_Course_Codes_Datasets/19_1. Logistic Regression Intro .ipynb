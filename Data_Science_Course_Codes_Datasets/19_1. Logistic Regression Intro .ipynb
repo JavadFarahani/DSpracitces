{
 "cells": [
  {
   "cell_type": "markdown",
   "metadata": {},
   "source": [
    "## Logistic Regression Intro"
   ]
  },
  {
   "cell_type": "code",
   "execution_count": 1,
   "metadata": {},
   "outputs": [],
   "source": [
    "import numpy as np\n",
    "import pandas as pd\n",
    "import statsmodels.api as sm\n",
    "import matplotlib.pyplot as plt\n",
    "import seaborn as sns\n",
    "sns.set()"
   ]
  },
  {
   "cell_type": "code",
   "execution_count": 14,
   "metadata": {},
   "outputs": [
    {
     "data": {
      "text/html": [
       "<div>\n",
       "<style scoped>\n",
       "    .dataframe tbody tr th:only-of-type {\n",
       "        vertical-align: middle;\n",
       "    }\n",
       "\n",
       "    .dataframe tbody tr th {\n",
       "        vertical-align: top;\n",
       "    }\n",
       "\n",
       "    .dataframe thead th {\n",
       "        text-align: right;\n",
       "    }\n",
       "</style>\n",
       "<table border=\"1\" class=\"dataframe\">\n",
       "  <thead>\n",
       "    <tr style=\"text-align: right;\">\n",
       "      <th></th>\n",
       "      <th>SAT</th>\n",
       "      <th>Admitted</th>\n",
       "    </tr>\n",
       "  </thead>\n",
       "  <tbody>\n",
       "    <tr>\n",
       "      <th>0</th>\n",
       "      <td>1363</td>\n",
       "      <td>No</td>\n",
       "    </tr>\n",
       "    <tr>\n",
       "      <th>1</th>\n",
       "      <td>1792</td>\n",
       "      <td>Yes</td>\n",
       "    </tr>\n",
       "    <tr>\n",
       "      <th>2</th>\n",
       "      <td>1954</td>\n",
       "      <td>Yes</td>\n",
       "    </tr>\n",
       "    <tr>\n",
       "      <th>3</th>\n",
       "      <td>1653</td>\n",
       "      <td>No</td>\n",
       "    </tr>\n",
       "    <tr>\n",
       "      <th>4</th>\n",
       "      <td>1593</td>\n",
       "      <td>No</td>\n",
       "    </tr>\n",
       "    <tr>\n",
       "      <th>...</th>\n",
       "      <td>...</td>\n",
       "      <td>...</td>\n",
       "    </tr>\n",
       "    <tr>\n",
       "      <th>163</th>\n",
       "      <td>1722</td>\n",
       "      <td>Yes</td>\n",
       "    </tr>\n",
       "    <tr>\n",
       "      <th>164</th>\n",
       "      <td>1750</td>\n",
       "      <td>Yes</td>\n",
       "    </tr>\n",
       "    <tr>\n",
       "      <th>165</th>\n",
       "      <td>1555</td>\n",
       "      <td>No</td>\n",
       "    </tr>\n",
       "    <tr>\n",
       "      <th>166</th>\n",
       "      <td>1524</td>\n",
       "      <td>No</td>\n",
       "    </tr>\n",
       "    <tr>\n",
       "      <th>167</th>\n",
       "      <td>1461</td>\n",
       "      <td>No</td>\n",
       "    </tr>\n",
       "  </tbody>\n",
       "</table>\n",
       "<p>168 rows × 2 columns</p>\n",
       "</div>"
      ],
      "text/plain": [
       "      SAT Admitted\n",
       "0    1363       No\n",
       "1    1792      Yes\n",
       "2    1954      Yes\n",
       "3    1653       No\n",
       "4    1593       No\n",
       "..    ...      ...\n",
       "163  1722      Yes\n",
       "164  1750      Yes\n",
       "165  1555       No\n",
       "166  1524       No\n",
       "167  1461       No\n",
       "\n",
       "[168 rows x 2 columns]"
      ]
     },
     "execution_count": 14,
     "metadata": {},
     "output_type": "execute_result"
    }
   ],
   "source": [
    "raw_data = pd.read_csv('Admittance.csv')\n",
    "\n",
    "raw_data"
   ]
  },
  {
   "cell_type": "code",
   "execution_count": 3,
   "metadata": {},
   "outputs": [
    {
     "data": {
      "text/html": [
       "<div>\n",
       "<style scoped>\n",
       "    .dataframe tbody tr th:only-of-type {\n",
       "        vertical-align: middle;\n",
       "    }\n",
       "\n",
       "    .dataframe tbody tr th {\n",
       "        vertical-align: top;\n",
       "    }\n",
       "\n",
       "    .dataframe thead th {\n",
       "        text-align: right;\n",
       "    }\n",
       "</style>\n",
       "<table border=\"1\" class=\"dataframe\">\n",
       "  <thead>\n",
       "    <tr style=\"text-align: right;\">\n",
       "      <th></th>\n",
       "      <th>SAT</th>\n",
       "      <th>Admitted</th>\n",
       "    </tr>\n",
       "  </thead>\n",
       "  <tbody>\n",
       "    <tr>\n",
       "      <th>0</th>\n",
       "      <td>1363</td>\n",
       "      <td>0</td>\n",
       "    </tr>\n",
       "    <tr>\n",
       "      <th>1</th>\n",
       "      <td>1792</td>\n",
       "      <td>1</td>\n",
       "    </tr>\n",
       "    <tr>\n",
       "      <th>2</th>\n",
       "      <td>1954</td>\n",
       "      <td>1</td>\n",
       "    </tr>\n",
       "    <tr>\n",
       "      <th>3</th>\n",
       "      <td>1653</td>\n",
       "      <td>0</td>\n",
       "    </tr>\n",
       "    <tr>\n",
       "      <th>4</th>\n",
       "      <td>1593</td>\n",
       "      <td>0</td>\n",
       "    </tr>\n",
       "    <tr>\n",
       "      <th>...</th>\n",
       "      <td>...</td>\n",
       "      <td>...</td>\n",
       "    </tr>\n",
       "    <tr>\n",
       "      <th>163</th>\n",
       "      <td>1722</td>\n",
       "      <td>1</td>\n",
       "    </tr>\n",
       "    <tr>\n",
       "      <th>164</th>\n",
       "      <td>1750</td>\n",
       "      <td>1</td>\n",
       "    </tr>\n",
       "    <tr>\n",
       "      <th>165</th>\n",
       "      <td>1555</td>\n",
       "      <td>0</td>\n",
       "    </tr>\n",
       "    <tr>\n",
       "      <th>166</th>\n",
       "      <td>1524</td>\n",
       "      <td>0</td>\n",
       "    </tr>\n",
       "    <tr>\n",
       "      <th>167</th>\n",
       "      <td>1461</td>\n",
       "      <td>0</td>\n",
       "    </tr>\n",
       "  </tbody>\n",
       "</table>\n",
       "<p>168 rows × 2 columns</p>\n",
       "</div>"
      ],
      "text/plain": [
       "      SAT  Admitted\n",
       "0    1363         0\n",
       "1    1792         1\n",
       "2    1954         1\n",
       "3    1653         0\n",
       "4    1593         0\n",
       "..    ...       ...\n",
       "163  1722         1\n",
       "164  1750         1\n",
       "165  1555         0\n",
       "166  1524         0\n",
       "167  1461         0\n",
       "\n",
       "[168 rows x 2 columns]"
      ]
     },
     "execution_count": 3,
     "metadata": {},
     "output_type": "execute_result"
    }
   ],
   "source": [
    "data = raw_data.copy()\n",
    "\n",
    "data['Admitted'] = data['Admitted'].map({'Yes':1,'No':0})\n",
    "\n",
    "data"
   ]
  },
  {
   "cell_type": "code",
   "execution_count": 4,
   "metadata": {},
   "outputs": [],
   "source": [
    "y = data['Admitted']\n",
    "\n",
    "x1 = data['SAT']"
   ]
  },
  {
   "cell_type": "code",
   "execution_count": 5,
   "metadata": {},
   "outputs": [
    {
     "data": {
      "image/png": "[encoded data removed]",
      "text/plain": [
       "<Figure size 432x288 with 1 Axes>"
      ]
     },
     "metadata": {},
     "output_type": "display_data"
    }
   ],
   "source": [
    "plt.scatter(x1, y, color='C0')\n",
    "\n",
    "plt.xlabel('SAT', fontsize=20)\n",
    "\n",
    "plt.ylabel('Admitted', fontsize=20)\n",
    "\n",
    "plt.show()"
   ]
  },
  {
   "cell_type": "code",
   "execution_count": 6,
   "metadata": {},
   "outputs": [
    {
     "data": {
      "image/png": "[encoded data removed]",
      "text/plain": [
       "<Figure size 432x288 with 1 Axes>"
      ]
     },
     "metadata": {},
     "output_type": "display_data"
    }
   ],
   "source": [
    "x = sm.add_constant(x1)\n",
    "\n",
    "reg_line = sm.OLS(y,x)\n",
    "\n",
    "results_line = reg_line.fit()\n",
    "\n",
    "plt.scatter(x1, y, color = 'C0')\n",
    "\n",
    "y_hat = x1*results_line.params[1] + results_line.params[0]\n",
    "\n",
    "# What do you think about \"results_line.params[1]\"???\n",
    "\n",
    "plt.plot(x1,y_hat, lw=3, color='red')\n",
    "plt.xlabel('SAT', fontsize = 20)\n",
    "plt.ylabel('Admitted', fontsize = 20)\n",
    "\n",
    "plt.show()"
   ]
  },
  {
   "cell_type": "code",
   "execution_count": 7,
   "metadata": {},
   "outputs": [
    {
     "data": {
      "text/html": [
       "<table class=\"simpletable\">\n",
       "<caption>OLS Regression Results</caption>\n",
       "<tr>\n",
       "  <th>Dep. Variable:</th>        <td>Admitted</td>     <th>  R-squared:         </th> <td>   0.683</td>\n",
       "</tr>\n",
       "<tr>\n",
       "  <th>Model:</th>                   <td>OLS</td>       <th>  Adj. R-squared:    </th> <td>   0.681</td>\n",
       "</tr>\n",
       "<tr>\n",
       "  <th>Method:</th>             <td>Least Squares</td>  <th>  F-statistic:       </th> <td>   357.5</td>\n",
       "</tr>\n",
       "<tr>\n",
       "  <th>Date:</th>             <td>Wed, 07 Apr 2021</td> <th>  Prob (F-statistic):</th> <td>2.98e-43</td>\n",
       "</tr>\n",
       "<tr>\n",
       "  <th>Time:</th>                 <td>13:42:31</td>     <th>  Log-Likelihood:    </th> <td> -24.262</td>\n",
       "</tr>\n",
       "<tr>\n",
       "  <th>No. Observations:</th>      <td>   168</td>      <th>  AIC:               </th> <td>   52.52</td>\n",
       "</tr>\n",
       "<tr>\n",
       "  <th>Df Residuals:</th>          <td>   166</td>      <th>  BIC:               </th> <td>   58.77</td>\n",
       "</tr>\n",
       "<tr>\n",
       "  <th>Df Model:</th>              <td>     1</td>      <th>                     </th>     <td> </td>   \n",
       "</tr>\n",
       "<tr>\n",
       "  <th>Covariance Type:</th>      <td>nonrobust</td>    <th>                     </th>     <td> </td>   \n",
       "</tr>\n",
       "</table>\n",
       "<table class=\"simpletable\">\n",
       "<tr>\n",
       "    <td></td>       <th>coef</th>     <th>std err</th>      <th>t</th>      <th>P>|t|</th>  <th>[0.025</th>    <th>0.975]</th>  \n",
       "</tr>\n",
       "<tr>\n",
       "  <th>const</th> <td>   -3.2519</td> <td>    0.203</td> <td>  -16.038</td> <td> 0.000</td> <td>   -3.652</td> <td>   -2.852</td>\n",
       "</tr>\n",
       "<tr>\n",
       "  <th>SAT</th>   <td>    0.0022</td> <td>    0.000</td> <td>   18.907</td> <td> 0.000</td> <td>    0.002</td> <td>    0.002</td>\n",
       "</tr>\n",
       "</table>\n",
       "<table class=\"simpletable\">\n",
       "<tr>\n",
       "  <th>Omnibus:</th>       <td> 7.929</td> <th>  Durbin-Watson:     </th> <td>   1.869</td>\n",
       "</tr>\n",
       "<tr>\n",
       "  <th>Prob(Omnibus):</th> <td> 0.019</td> <th>  Jarque-Bera (JB):  </th> <td>   3.844</td>\n",
       "</tr>\n",
       "<tr>\n",
       "  <th>Skew:</th>          <td> 0.090</td> <th>  Prob(JB):          </th> <td>   0.146</td>\n",
       "</tr>\n",
       "<tr>\n",
       "  <th>Kurtosis:</th>      <td> 2.281</td> <th>  Cond. No.          </th> <td>1.59e+04</td>\n",
       "</tr>\n",
       "</table><br/><br/>Notes:<br/>[1] Standard Errors assume that the covariance matrix of the errors is correctly specified.<br/>[2] The condition number is large, 1.59e+04. This might indicate that there are<br/>strong multicollinearity or other numerical problems."
      ],
      "text/plain": [
       "<class 'statsmodels.iolib.summary.Summary'>\n",
       "\"\"\"\n",
       "                            OLS Regression Results                            \n",
       "==============================================================================\n",
       "Dep. Variable:               Admitted   R-squared:                       0.683\n",
       "Model:                            OLS   Adj. R-squared:                  0.681\n",
       "Method:                 Least Squares   F-statistic:                     357.5\n",
       "Date:                Wed, 07 Apr 2021   Prob (F-statistic):           2.98e-43\n",
       "Time:                        13:42:31   Log-Likelihood:                -24.262\n",
       "No. Observations:                 168   AIC:                             52.52\n",
       "Df Residuals:                     166   BIC:                             58.77\n",
       "Df Model:                           1                                         \n",
       "Covariance Type:            nonrobust                                         \n",
       "==============================================================================\n",
       "                 coef    std err          t      P>|t|      [0.025      0.975]\n",
       "------------------------------------------------------------------------------\n",
       "const         -3.2519      0.203    -16.038      0.000      -3.652      -2.852\n",
       "SAT            0.0022      0.000     18.907      0.000       0.002       0.002\n",
       "==============================================================================\n",
       "Omnibus:                        7.929   Durbin-Watson:                   1.869\n",
       "Prob(Omnibus):                  0.019   Jarque-Bera (JB):                3.844\n",
       "Skew:                           0.090   Prob(JB):                        0.146\n",
       "Kurtosis:                       2.281   Cond. No.                     1.59e+04\n",
       "==============================================================================\n",
       "\n",
       "Notes:\n",
       "[1] Standard Errors assume that the covariance matrix of the errors is correctly specified.\n",
       "[2] The condition number is large, 1.59e+04. This might indicate that there are\n",
       "strong multicollinearity or other numerical problems.\n",
       "\"\"\""
      ]
     },
     "execution_count": 7,
     "metadata": {},
     "output_type": "execute_result"
    }
   ],
   "source": [
    "results_line.summary()"
   ]
  },
  {
   "cell_type": "code",
   "execution_count": 8,
   "metadata": {},
   "outputs": [
    {
     "data": {
      "text/plain": [
       "(0.0022482399779685663, -3.2518585426506874)"
      ]
     },
     "execution_count": 8,
     "metadata": {},
     "output_type": "execute_result"
    }
   ],
   "source": [
    "results_line.params[1], results_line.params[0]"
   ]
  },
  {
   "cell_type": "code",
   "execution_count": 9,
   "metadata": {},
   "outputs": [
    {
     "name": "stdout",
     "output_type": "stream",
     "text": [
      "Optimization terminated successfully.\n",
      "         Current function value: 0.137766\n",
      "         Iterations 10\n"
     ]
    },
    {
     "data": {
      "image/png": "[encoded data removed]",
      "text/plain": [
       "<Figure size 432x288 with 1 Axes>"
      ]
     },
     "metadata": {},
     "output_type": "display_data"
    }
   ],
   "source": [
    "reg_log = sm.Logit(y,x)\n",
    "\n",
    "results_log = reg_log.fit()\n",
    "\n",
    "def f(x, b0, b1):\n",
    "    return np.array(np.exp(b0+x*b1) / (1 + np.exp(b0+x*b1)))\n",
    "\n",
    "f_sorted = np.sort(f(x1, results_log.params[0], results_log.params[1]))\n",
    "\n",
    "x_sorted = np.sort(np.array(x1))\n",
    "\n",
    "plt.scatter(x1, y, color='C0')\n",
    "plt.xlabel('SAT', fontsize = 20)\n",
    "plt.ylabel('Admitted', fontsize=20)\n",
    "plt.plot(x_sorted, f_sorted, color='red')\n",
    "plt.show()"
   ]
  },
  {
   "cell_type": "code",
   "execution_count": 10,
   "metadata": {},
   "outputs": [
    {
     "data": {
      "text/plain": [
       "(array([1363, 1792, 1954, 1653, 1593, 1755, 1775, 1887, 1893, 1580, 1857,\n",
       "        1880, 1664, 1364, 1693, 1850, 1633, 1634, 1636, 1855, 1987, 1997,\n",
       "        1422, 1508, 1720, 1879, 1634, 1802, 1849, 1764, 1460, 1675, 1656,\n",
       "        2020, 1850, 1865, 1664, 1872, 1654, 1393, 1587, 1631, 1931, 1370,\n",
       "        1810, 1414, 1761, 1477, 1486, 1561, 1549, 2050, 1697, 1543, 1934,\n",
       "        1385, 1670, 1735, 1634, 1777, 1550, 1715, 1925, 1842, 1786, 1435,\n",
       "        1387, 1521, 1975, 1435, 1714, 1634, 1464, 1794, 1855, 1953, 1469,\n",
       "        1663, 1907, 1990, 1542, 1808, 1966, 1679, 2021, 2015, 1473, 1979,\n",
       "        1787, 1687, 1674, 1478, 1735, 1720, 1494, 1964, 1843, 1550, 1764,\n",
       "        1712, 1775, 1531, 1781, 1579, 1526, 1778, 1769, 1824, 1481, 1464,\n",
       "        1591, 1666, 1455, 1934, 1625, 1334, 1721, 1475, 1662, 1861, 1936,\n",
       "        1572, 1508, 1430, 1891, 1550, 1741, 1690, 1687, 1730, 1674, 1475,\n",
       "        1962, 1532, 1492, 1502, 1974, 1607, 1412, 1557, 1821, 1760, 1685,\n",
       "        1773, 1826, 1565, 1510, 1374, 1402, 1702, 1956, 1933, 1832, 1893,\n",
       "        1831, 1487, 2041, 1850, 1555, 2020, 1593, 1934, 1808, 1722, 1750,\n",
       "        1555, 1524, 1461], dtype=int64),\n",
       " array([1334, 1363, 1364, 1370, 1374, 1385, 1387, 1393, 1402, 1412, 1414,\n",
       "        1422, 1430, 1435, 1435, 1455, 1460, 1461, 1464, 1464, 1469, 1473,\n",
       "        1475, 1475, 1477, 1478, 1481, 1486, 1487, 1492, 1494, 1502, 1508,\n",
       "        1508, 1510, 1521, 1524, 1526, 1531, 1532, 1542, 1543, 1549, 1550,\n",
       "        1550, 1550, 1555, 1555, 1557, 1561, 1565, 1572, 1579, 1580, 1587,\n",
       "        1591, 1593, 1593, 1607, 1625, 1631, 1633, 1634, 1634, 1634, 1634,\n",
       "        1636, 1653, 1654, 1656, 1662, 1663, 1664, 1664, 1666, 1670, 1674,\n",
       "        1674, 1675, 1679, 1685, 1687, 1687, 1690, 1693, 1697, 1702, 1712,\n",
       "        1714, 1715, 1720, 1720, 1721, 1722, 1730, 1735, 1735, 1741, 1750,\n",
       "        1755, 1760, 1761, 1764, 1764, 1769, 1773, 1775, 1775, 1777, 1778,\n",
       "        1781, 1786, 1787, 1792, 1794, 1802, 1808, 1808, 1810, 1821, 1824,\n",
       "        1826, 1831, 1832, 1842, 1843, 1849, 1850, 1850, 1850, 1855, 1855,\n",
       "        1857, 1861, 1865, 1872, 1879, 1880, 1887, 1891, 1893, 1893, 1907,\n",
       "        1925, 1931, 1933, 1934, 1934, 1934, 1936, 1953, 1954, 1956, 1962,\n",
       "        1964, 1966, 1974, 1975, 1979, 1987, 1990, 1997, 2015, 2020, 2020,\n",
       "        2021, 2041, 2050], dtype=int64))"
      ]
     },
     "execution_count": 10,
     "metadata": {},
     "output_type": "execute_result"
    }
   ],
   "source": [
    "np.array(x1), x_sorted"
   ]
  },
  {
   "cell_type": "code",
   "execution_count": 11,
   "metadata": {},
   "outputs": [
    {
     "data": {
      "text/plain": [
       "array([3.17509804e-06, 9.95320711e-01, 9.99994789e-01, 3.82545559e-01,\n",
       "       4.74688306e-02, 9.78241219e-01, 9.90489815e-01, 9.99913075e-01,\n",
       "       9.99932439e-01, 2.80555331e-02, 9.99693576e-01, 9.99883365e-01,\n",
       "       4.95824098e-01, 3.31130788e-06, 7.68780343e-01, 9.99588875e-01,\n",
       "       2.11008877e-01, 2.18086901e-01, 2.32751342e-01, 9.99666730e-01,\n",
       "       9.99998697e-01, 9.99999144e-01, 3.78484857e-05, 1.40058570e-03,\n",
       "       9.11780281e-01, 9.99878362e-01, 2.18086901e-01, 9.96920696e-01,\n",
       "       9.99571245e-01, 9.84988046e-01, 1.86723145e-04, 6.09532977e-01,\n",
       "       4.12717426e-01, 9.99999674e-01, 9.99588875e-01, 9.99781012e-01,\n",
       "       4.95824098e-01, 9.99836790e-01, 3.92515016e-01, 1.11951035e-05,\n",
       "       3.72881439e-02, 1.97361936e-01, 9.99986307e-01, 4.26043595e-06,\n",
       "       9.97797608e-01, 2.70466415e-05, 9.83006220e-01, 3.81272805e-04,\n",
       "       5.56342322e-04, 1.28281107e-02, 7.78868807e-03, 9.99999908e-01,\n",
       "       7.97292345e-01, 6.06406209e-03, 9.99987928e-01, 7.99999369e-06,\n",
       "       5.58561299e-01, 9.50997566e-01, 2.18086901e-01, 9.91249418e-01,\n",
       "       8.12010613e-03, 8.93361262e-01, 9.99982382e-01, 9.99424768e-01,\n",
       "       9.93987534e-01, 6.53414596e-05, 8.70110288e-06, 2.41557378e-03,\n",
       "       9.99997843e-01, 6.53414596e-05, 8.89292965e-01, 2.18086901e-01,\n",
       "       2.20878399e-04, 9.95696135e-01, 9.99666730e-01, 9.99994565e-01,\n",
       "       2.72485399e-04, 4.85326998e-01, 9.99962475e-01, 9.99998851e-01,\n",
       "       5.81606838e-03, 9.97605054e-01, 9.99996852e-01, 6.48708934e-01,\n",
       "       9.99999688e-01, 9.99999598e-01, 3.22323161e-04, 9.99998177e-01,\n",
       "       9.94233430e-01, 7.20996094e-01, 5.99490987e-01, 3.97622735e-04,\n",
       "       9.50997566e-01, 9.11780281e-01, 7.78368880e-04, 9.99996576e-01,\n",
       "       9.99448417e-01, 8.12010613e-03, 9.84988046e-01, 8.80747681e-01,\n",
       "       9.90489815e-01, 3.67195895e-03, 9.92592781e-01, 2.69325537e-02,\n",
       "       2.97843145e-03, 9.91606351e-01, 9.87797140e-01, 9.98775594e-01,\n",
       "       4.50998879e-04, 2.20878399e-04, 4.38114775e-02, 5.16820085e-01,\n",
       "       1.51356511e-04, 9.99987928e-01, 1.60448635e-01, 9.39130917e-07,\n",
       "       9.15101099e-01, 3.50561492e-04, 4.74842828e-01, 9.99740956e-01,\n",
       "       9.99988901e-01, 2.02101782e-02, 1.40058570e-03, 5.29641245e-05,\n",
       "       9.99926518e-01, 8.12010613e-03, 9.61493870e-01, 7.45626764e-01,\n",
       "       7.20996094e-01, 9.40229806e-01, 5.99490987e-01, 3.50561492e-04,\n",
       "       9.99996276e-01, 3.82888121e-03, 7.15694599e-04, 1.08890584e-03,\n",
       "       9.99997751e-01, 8.23391338e-02, 2.48673397e-05, 1.08656392e-02,\n",
       "       9.98611387e-01, 9.82290106e-01, 7.03787258e-01, 9.89664961e-01,\n",
       "       9.98874143e-01, 1.51396041e-02, 1.52314535e-03, 5.03991985e-06,\n",
       "       1.63383507e-05, 8.29130993e-01, 9.99995209e-01, 9.99987410e-01,\n",
       "       9.99124740e-01, 9.99932439e-01, 9.99087226e-01, 5.80195312e-04,\n",
       "       9.99999865e-01, 9.99588875e-01, 9.99886535e-03, 9.99999674e-01,\n",
       "       4.74688306e-02, 9.99987928e-01, 9.97605054e-01, 9.18308113e-01,\n",
       "       9.73291832e-01, 9.99886535e-03, 2.73909368e-03, 1.94731925e-04])"
      ]
     },
     "execution_count": 11,
     "metadata": {},
     "output_type": "execute_result"
    }
   ],
   "source": [
    "f(x1, results_log.params[0], results_log.params[1])"
   ]
  },
  {
   "cell_type": "code",
   "execution_count": 12,
   "metadata": {},
   "outputs": [
    {
     "data": {
      "text/plain": [
       "array([9.39130917e-07, 3.17509804e-06, 3.31130788e-06, 4.26043595e-06,\n",
       "       5.03991985e-06, 7.99999369e-06, 8.70110288e-06, 1.11951035e-05,\n",
       "       1.63383507e-05, 2.48673397e-05, 2.70466415e-05, 3.78484857e-05,\n",
       "       5.29641245e-05, 6.53414596e-05, 6.53414596e-05, 1.51356511e-04,\n",
       "       1.86723145e-04, 1.94731925e-04, 2.20878399e-04, 2.20878399e-04,\n",
       "       2.72485399e-04, 3.22323161e-04, 3.50561492e-04, 3.50561492e-04,\n",
       "       3.81272805e-04, 3.97622735e-04, 4.50998879e-04, 5.56342322e-04,\n",
       "       5.80195312e-04, 7.15694599e-04, 7.78368880e-04, 1.08890584e-03,\n",
       "       1.40058570e-03, 1.40058570e-03, 1.52314535e-03, 2.41557378e-03,\n",
       "       2.73909368e-03, 2.97843145e-03, 3.67195895e-03, 3.82888121e-03,\n",
       "       5.81606838e-03, 6.06406209e-03, 7.78868807e-03, 8.12010613e-03,\n",
       "       8.12010613e-03, 8.12010613e-03, 9.99886535e-03, 9.99886535e-03,\n",
       "       1.08656392e-02, 1.28281107e-02, 1.51396041e-02, 2.02101782e-02,\n",
       "       2.69325537e-02, 2.80555331e-02, 3.72881439e-02, 4.38114775e-02,\n",
       "       4.74688306e-02, 4.74688306e-02, 8.23391338e-02, 1.60448635e-01,\n",
       "       1.97361936e-01, 2.11008877e-01, 2.18086901e-01, 2.18086901e-01,\n",
       "       2.18086901e-01, 2.18086901e-01, 2.32751342e-01, 3.82545559e-01,\n",
       "       3.92515016e-01, 4.12717426e-01, 4.74842828e-01, 4.85326998e-01,\n",
       "       4.95824098e-01, 4.95824098e-01, 5.16820085e-01, 5.58561299e-01,\n",
       "       5.99490987e-01, 5.99490987e-01, 6.09532977e-01, 6.48708934e-01,\n",
       "       7.03787258e-01, 7.20996094e-01, 7.20996094e-01, 7.45626764e-01,\n",
       "       7.68780343e-01, 7.97292345e-01, 8.29130993e-01, 8.80747681e-01,\n",
       "       8.89292965e-01, 8.93361262e-01, 9.11780281e-01, 9.11780281e-01,\n",
       "       9.15101099e-01, 9.18308113e-01, 9.40229806e-01, 9.50997566e-01,\n",
       "       9.50997566e-01, 9.61493870e-01, 9.73291832e-01, 9.78241219e-01,\n",
       "       9.82290106e-01, 9.83006220e-01, 9.84988046e-01, 9.84988046e-01,\n",
       "       9.87797140e-01, 9.89664961e-01, 9.90489815e-01, 9.90489815e-01,\n",
       "       9.91249418e-01, 9.91606351e-01, 9.92592781e-01, 9.93987534e-01,\n",
       "       9.94233430e-01, 9.95320711e-01, 9.95696135e-01, 9.96920696e-01,\n",
       "       9.97605054e-01, 9.97605054e-01, 9.97797608e-01, 9.98611387e-01,\n",
       "       9.98775594e-01, 9.98874143e-01, 9.99087226e-01, 9.99124740e-01,\n",
       "       9.99424768e-01, 9.99448417e-01, 9.99571245e-01, 9.99588875e-01,\n",
       "       9.99588875e-01, 9.99588875e-01, 9.99666730e-01, 9.99666730e-01,\n",
       "       9.99693576e-01, 9.99740956e-01, 9.99781012e-01, 9.99836790e-01,\n",
       "       9.99878362e-01, 9.99883365e-01, 9.99913075e-01, 9.99926518e-01,\n",
       "       9.99932439e-01, 9.99932439e-01, 9.99962475e-01, 9.99982382e-01,\n",
       "       9.99986307e-01, 9.99987410e-01, 9.99987928e-01, 9.99987928e-01,\n",
       "       9.99987928e-01, 9.99988901e-01, 9.99994565e-01, 9.99994789e-01,\n",
       "       9.99995209e-01, 9.99996276e-01, 9.99996576e-01, 9.99996852e-01,\n",
       "       9.99997751e-01, 9.99997843e-01, 9.99998177e-01, 9.99998697e-01,\n",
       "       9.99998851e-01, 9.99999144e-01, 9.99999598e-01, 9.99999674e-01,\n",
       "       9.99999674e-01, 9.99999688e-01, 9.99999865e-01, 9.99999908e-01])"
      ]
     },
     "execution_count": 12,
     "metadata": {},
     "output_type": "execute_result"
    }
   ],
   "source": [
    " f_sorted"
   ]
  },
  {
   "cell_type": "code",
   "execution_count": null,
   "metadata": {},
   "outputs": [],
   "source": []
  }
 ],
 "metadata": {
  "kernelspec": {
   "display_name": "Python 3",
   "language": "python",
   "name": "python3"
  },
  "language_info": {
   "codemirror_mode": {
    "name": "ipython",
    "version": 3
   },
   "file_extension": ".py",
   "mimetype": "text/x-python",
   "name": "python",
   "nbconvert_exporter": "python",
   "pygments_lexer": "ipython3",
   "version": "3.8.5"
  }
 },
 "nbformat": 4,
 "nbformat_minor": 2
}
