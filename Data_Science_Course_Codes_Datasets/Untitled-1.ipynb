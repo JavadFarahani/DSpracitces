{
 "cells": [
  {
   "cell_type": "code",
   "execution_count": null,
   "metadata": {},
   "outputs": [],
   "source": [
    "yryr"
   ]
  }
 ],
 "metadata": {
  "kernelspec": {
   "display_name": "Python 3",
   "language": "python",
   "name": "python3"
  },
  "language_info": {
   "name": "python",
   "version": "3.7.2"
  },
  "orig_nbformat": 4,
  "vscode": {
   "interpreter": {
    "hash": "3c131d9f6474af261955aa1e8207c8433a778a6baed14433cc473bd0afc9ca1d"
   }
  }
 },
 "nbformat": 4,
 "nbformat_minor": 2
}
